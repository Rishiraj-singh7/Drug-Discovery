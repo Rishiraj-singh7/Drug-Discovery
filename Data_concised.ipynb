{
 "cells": [
  {
   "cell_type": "code",
   "execution_count": null,
   "source": [
    "! pip3 install chembl_websource_client"
   ],
   "outputs": [],
   "metadata": {}
  },
  {
   "cell_type": "markdown",
   "source": [
    "#  import lib"
   ],
   "metadata": {}
  },
  {
   "cell_type": "markdown",
   "source": [
    "import pandas as pd\r\n",
    "from chembl_webresourse_client import "
   ],
   "metadata": {}
  },
  {
   "cell_type": "code",
   "execution_count": null,
   "source": [
    "import pandas as pd\r\n",
    "from chembl_webresource_client import new_client"
   ],
   "outputs": [],
   "metadata": {}
  },
  {
   "cell_type": "markdown",
   "source": [
    "### search for target protein"
   ],
   "metadata": {}
  },
  {
   "cell_type": "markdown",
   "source": [
    "#  target search for coronavirus"
   ],
   "metadata": {}
  },
  {
   "cell_type": "code",
   "execution_count": null,
   "source": [
    "target = new_client.target\r\n",
    "target_quary = target.search('coronavirus')\r\n",
    "targets = pd.dataframe.from_dict(target_quary)\r\n",
    "targets"
   ],
   "outputs": [],
   "metadata": {}
  },
  {
   "cell_type": "code",
   "execution_count": null,
   "source": [],
   "outputs": [],
   "metadata": {}
  }
 ],
 "metadata": {
  "orig_nbformat": 4,
  "language_info": {
   "name": "python"
  }
 },
 "nbformat": 4,
 "nbformat_minor": 2
}