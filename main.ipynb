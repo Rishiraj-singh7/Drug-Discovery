{
 "metadata": {
  "language_info": {
   "codemirror_mode": {
    "name": "ipython",
    "version": 3
   },
   "file_extension": ".py",
   "mimetype": "text/x-python",
   "name": "python",
   "nbconvert_exporter": "python",
   "pygments_lexer": "ipython3",
   "version": "3.9.4"
  },
  "orig_nbformat": 4,
  "kernelspec": {
   "name": "python3",
   "display_name": "Python 3.9.4 64-bit"
  },
  "interpreter": {
   "hash": "cf2be2a33dd71f995549108825127f0d77f91b0b82c0bf9829b18b4885ce616c"
  }
 },
 "nbformat": 4,
 "nbformat_minor": 2,
 "cells": [
  {
   "source": [
    "# importing libraries"
   ],
   "cell_type": "markdown",
   "metadata": {}
  },
  {
   "cell_type": "code",
   "execution_count": 1,
   "metadata": {},
   "outputs": [],
   "source": [
    "import pandas as pd\n",
    "from chembl_webresource_client.new_client import new_client"
   ]
  },
  {
   "source": [
    "# Search for Target protein"
   ],
   "cell_type": "markdown",
   "metadata": {}
  },
  {
   "source": [
    "Target search for coronavirus"
   ],
   "cell_type": "markdown",
   "metadata": {}
  },
  {
   "cell_type": "code",
   "execution_count": 2,
   "metadata": {},
   "outputs": [
    {
     "output_type": "execute_result",
     "data": {
      "text/plain": [
       "                                    cross_references  \\\n",
       "0                                                 []   \n",
       "1                                                 []   \n",
       "2                                                 []   \n",
       "3                                                 []   \n",
       "4  [{'xref_id': 'P0C6U8', 'xref_name': None, 'xre...   \n",
       "5                                                 []   \n",
       "6  [{'xref_id': 'P0C6X7', 'xref_name': None, 'xre...   \n",
       "7                                                 []   \n",
       "\n",
       "                                            organism  \\\n",
       "0                                        Coronavirus   \n",
       "1                                   SARS coronavirus   \n",
       "2                                 Feline coronavirus   \n",
       "3                             Human coronavirus 229E   \n",
       "4                                   SARS coronavirus   \n",
       "5  Middle East respiratory syndrome-related coron...   \n",
       "6                                   SARS coronavirus   \n",
       "7    Severe acute respiratory syndrome coronavirus 2   \n",
       "\n",
       "                                           pref_name  score  \\\n",
       "0                                        Coronavirus   17.0   \n",
       "1                                   SARS coronavirus   15.0   \n",
       "2                                 Feline coronavirus   15.0   \n",
       "3                             Human coronavirus 229E   13.0   \n",
       "4                SARS coronavirus 3C-like proteinase   10.0   \n",
       "5  Middle East respiratory syndrome-related coron...    9.0   \n",
       "6                          Replicase polyprotein 1ab    4.0   \n",
       "7                          Replicase polyprotein 1ab    4.0   \n",
       "\n",
       "   species_group_flag target_chembl_id  \\\n",
       "0               False     CHEMBL613732   \n",
       "1               False     CHEMBL612575   \n",
       "2               False     CHEMBL612744   \n",
       "3               False     CHEMBL613837   \n",
       "4               False       CHEMBL3927   \n",
       "5               False    CHEMBL4296578   \n",
       "6               False       CHEMBL5118   \n",
       "7               False    CHEMBL4523582   \n",
       "\n",
       "                                   target_components     target_type   tax_id  \n",
       "0                                                 []        ORGANISM    11119  \n",
       "1                                                 []        ORGANISM   227859  \n",
       "2                                                 []        ORGANISM    12663  \n",
       "3                                                 []        ORGANISM    11137  \n",
       "4  [{'accession': 'P0C6U8', 'component_descriptio...  SINGLE PROTEIN   227859  \n",
       "5                                                 []        ORGANISM  1335626  \n",
       "6  [{'accession': 'P0C6X7', 'component_descriptio...  SINGLE PROTEIN   227859  \n",
       "7  [{'accession': 'P0DTD1', 'component_descriptio...  SINGLE PROTEIN  2697049  "
      ],
      "text/html": "<div>\n<style scoped>\n    .dataframe tbody tr th:only-of-type {\n        vertical-align: middle;\n    }\n\n    .dataframe tbody tr th {\n        vertical-align: top;\n    }\n\n    .dataframe thead th {\n        text-align: right;\n    }\n</style>\n<table border=\"1\" class=\"dataframe\">\n  <thead>\n    <tr style=\"text-align: right;\">\n      <th></th>\n      <th>cross_references</th>\n      <th>organism</th>\n      <th>pref_name</th>\n      <th>score</th>\n      <th>species_group_flag</th>\n      <th>target_chembl_id</th>\n      <th>target_components</th>\n      <th>target_type</th>\n      <th>tax_id</th>\n    </tr>\n  </thead>\n  <tbody>\n    <tr>\n      <th>0</th>\n      <td>[]</td>\n      <td>Coronavirus</td>\n      <td>Coronavirus</td>\n      <td>17.0</td>\n      <td>False</td>\n      <td>CHEMBL613732</td>\n      <td>[]</td>\n      <td>ORGANISM</td>\n      <td>11119</td>\n    </tr>\n    <tr>\n      <th>1</th>\n      <td>[]</td>\n      <td>SARS coronavirus</td>\n      <td>SARS coronavirus</td>\n      <td>15.0</td>\n      <td>False</td>\n      <td>CHEMBL612575</td>\n      <td>[]</td>\n      <td>ORGANISM</td>\n      <td>227859</td>\n    </tr>\n    <tr>\n      <th>2</th>\n      <td>[]</td>\n      <td>Feline coronavirus</td>\n      <td>Feline coronavirus</td>\n      <td>15.0</td>\n      <td>False</td>\n      <td>CHEMBL612744</td>\n      <td>[]</td>\n      <td>ORGANISM</td>\n      <td>12663</td>\n    </tr>\n    <tr>\n      <th>3</th>\n      <td>[]</td>\n      <td>Human coronavirus 229E</td>\n      <td>Human coronavirus 229E</td>\n      <td>13.0</td>\n      <td>False</td>\n      <td>CHEMBL613837</td>\n      <td>[]</td>\n      <td>ORGANISM</td>\n      <td>11137</td>\n    </tr>\n    <tr>\n      <th>4</th>\n      <td>[{'xref_id': 'P0C6U8', 'xref_name': None, 'xre...</td>\n      <td>SARS coronavirus</td>\n      <td>SARS coronavirus 3C-like proteinase</td>\n      <td>10.0</td>\n      <td>False</td>\n      <td>CHEMBL3927</td>\n      <td>[{'accession': 'P0C6U8', 'component_descriptio...</td>\n      <td>SINGLE PROTEIN</td>\n      <td>227859</td>\n    </tr>\n    <tr>\n      <th>5</th>\n      <td>[]</td>\n      <td>Middle East respiratory syndrome-related coron...</td>\n      <td>Middle East respiratory syndrome-related coron...</td>\n      <td>9.0</td>\n      <td>False</td>\n      <td>CHEMBL4296578</td>\n      <td>[]</td>\n      <td>ORGANISM</td>\n      <td>1335626</td>\n    </tr>\n    <tr>\n      <th>6</th>\n      <td>[{'xref_id': 'P0C6X7', 'xref_name': None, 'xre...</td>\n      <td>SARS coronavirus</td>\n      <td>Replicase polyprotein 1ab</td>\n      <td>4.0</td>\n      <td>False</td>\n      <td>CHEMBL5118</td>\n      <td>[{'accession': 'P0C6X7', 'component_descriptio...</td>\n      <td>SINGLE PROTEIN</td>\n      <td>227859</td>\n    </tr>\n    <tr>\n      <th>7</th>\n      <td>[]</td>\n      <td>Severe acute respiratory syndrome coronavirus 2</td>\n      <td>Replicase polyprotein 1ab</td>\n      <td>4.0</td>\n      <td>False</td>\n      <td>CHEMBL4523582</td>\n      <td>[{'accession': 'P0DTD1', 'component_descriptio...</td>\n      <td>SINGLE PROTEIN</td>\n      <td>2697049</td>\n    </tr>\n  </tbody>\n</table>\n</div>"
     },
     "metadata": {},
     "execution_count": 2
    }
   ],
   "source": [
    "# Target search for coronavirus\n",
    "target = new_client.target\n",
    "target_query = target.search('coronavirus')\n",
    "targets = pd.DataFrame.from_dict(target_query)\n",
    "targets"
   ]
  },
  {
   "source": [
    "### Select and retrieve bioactivity data for SARS coronavirus 3C-like proteinase(fifth entry)"
   ],
   "cell_type": "markdown",
   "metadata": {}
  },
  {
   "source": [
    "we will assign the fifth entry (which corresponds to the target protien,coronavirus 3C-like proteinase)"
   ],
   "cell_type": "markdown",
   "metadata": {}
  },
  {
   "cell_type": "code",
   "execution_count": 3,
   "metadata": {},
   "outputs": [
    {
     "output_type": "execute_result",
     "data": {
      "text/plain": [
       "'CHEMBL3927'"
      ]
     },
     "metadata": {},
     "execution_count": 3
    }
   ],
   "source": [
    "selected_target = targets.target_chembl_id[4]\n",
    "selected_target"
   ]
  },
  {
   "source": [
    "here, we will retrieve only bioactivity data for coronavirus 3C-like proyeinse(CHEMBL3927) that are reported as IC50 values in nM"
   ],
   "cell_type": "markdown",
   "metadata": {}
  },
  {
   "cell_type": "code",
   "execution_count": 4,
   "metadata": {},
   "outputs": [],
   "source": [
    "activity = new_client.activity\n",
    "res = activity.filter(target_chembi_id=selected_target).filter(standard_type=\"IC50\")"
   ]
  },
  {
   "cell_type": "code",
   "execution_count": null,
   "metadata": {},
   "outputs": [],
   "source": [
    "df = pd.DataFrame.from_dict(res)"
   ]
  },
  {
   "cell_type": "code",
   "execution_count": null,
   "metadata": {},
   "outputs": [],
   "source": [
    "df.head(10)"
   ]
  },
  {
   "source": [
    "### finally we will save the resulting bioactivity data to a csv file (bioactivity_data.csv.)"
   ],
   "cell_type": "markdown",
   "metadata": {}
  },
  {
   "cell_type": "code",
   "execution_count": null,
   "metadata": {},
   "outputs": [],
   "source": [
    "df.to_csv('bioactivity_data.csv', index=False)"
   ]
  },
  {
   "cell_type": "code",
   "execution_count": null,
   "metadata": {},
   "outputs": [],
   "source": []
  }
 ]
}